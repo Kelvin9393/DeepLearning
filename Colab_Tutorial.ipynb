{
  "nbformat": 4,
  "nbformat_minor": 0,
  "metadata": {
    "colab": {
      "provenance": [],
      "toc_visible": true,
      "mount_file_id": "1dYehuUZauTCcOPB-qB6bqRgVrGEC9w-4",
      "authorship_tag": "ABX9TyMVW7dCO9WtNqkju8UkHGUF",
      "include_colab_link": true
    },
    "kernelspec": {
      "name": "python3",
      "display_name": "Python 3"
    },
    "language_info": {
      "name": "python"
    }
  },
  "cells": [
    {
      "cell_type": "markdown",
      "metadata": {
        "id": "view-in-github",
        "colab_type": "text"
      },
      "source": [
        "<a href=\"https://colab.research.google.com/github/Kelvin9393/DeepLearning/blob/main/Colab_Tutorial.ipynb\" target=\"_parent\"><img src=\"https://colab.research.google.com/assets/colab-badge.svg\" alt=\"Open In Colab\"/></a>"
      ]
    },
    {
      "cell_type": "code",
      "source": [
        "x = 5\n",
        "x"
      ],
      "metadata": {
        "colab": {
          "base_uri": "https://localhost:8080/"
        },
        "id": "W53Ya99XNLwZ",
        "outputId": "6bb59aa3-c365-4215-c3a3-815f8269df9a"
      },
      "execution_count": 10,
      "outputs": [
        {
          "output_type": "execute_result",
          "data": {
            "text/plain": [
              "5"
            ]
          },
          "metadata": {},
          "execution_count": 10
        }
      ]
    },
    {
      "cell_type": "code",
      "execution_count": 5,
      "metadata": {
        "colab": {
          "base_uri": "https://localhost:8080/"
        },
        "id": "l7w0EdeNIGZ7",
        "outputId": "72514919-6b6a-4301-db2c-a72f804528e6"
      },
      "outputs": [
        {
          "output_type": "stream",
          "name": "stdout",
          "text": [
            "sample_data\n"
          ]
        }
      ],
      "source": [
        "!ls"
      ]
    },
    {
      "cell_type": "code",
      "source": [
        "!pwd"
      ],
      "metadata": {
        "colab": {
          "base_uri": "https://localhost:8080/"
        },
        "id": "GB88IQ-1K6qy",
        "outputId": "e73b5cc8-0016-4f0c-c1ed-5bdae2a72f8f"
      },
      "execution_count": 6,
      "outputs": [
        {
          "output_type": "stream",
          "name": "stdout",
          "text": [
            "/content\n"
          ]
        }
      ]
    },
    {
      "cell_type": "code",
      "source": [
        "! mkdir new_folder"
      ],
      "metadata": {
        "id": "WAIeE8p7LH8z"
      },
      "execution_count": 7,
      "outputs": []
    },
    {
      "cell_type": "code",
      "source": [
        "f = [1, 2, 3]"
      ],
      "metadata": {
        "id": "lAYdwDDjLZeM"
      },
      "execution_count": 8,
      "outputs": []
    },
    {
      "cell_type": "markdown",
      "source": [
        "Hi"
      ],
      "metadata": {
        "id": "Jo2H7IC3VkrQ"
      }
    },
    {
      "cell_type": "markdown",
      "source": [
        "# hi"
      ],
      "metadata": {
        "id": "LDtvBiKuVuNu"
      }
    },
    {
      "cell_type": "markdown",
      "source": [
        "## Hi as well"
      ],
      "metadata": {
        "id": "MgKoZIv6WBLw"
      }
    },
    {
      "cell_type": "markdown",
      "source": [
        "### Hello"
      ],
      "metadata": {
        "id": "5x49JSbpWGtt"
      }
    },
    {
      "cell_type": "markdown",
      "source": [
        "## Hi 7"
      ],
      "metadata": {
        "id": "rb5TZlafWYsv"
      }
    },
    {
      "cell_type": "markdown",
      "source": [
        "# hi 2"
      ],
      "metadata": {
        "id": "3wBkHrMNWliU"
      }
    }
  ]
}